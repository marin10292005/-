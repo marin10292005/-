{
  "nbformat": 4,
  "nbformat_minor": 0,
  "metadata": {
    "colab": {
      "name": "python 자료구조.ipynb",
      "provenance": [],
      "authorship_tag": "ABX9TyMJBqKoIQSMbny2zSIoEG0F",
      "include_colab_link": true
    },
    "kernelspec": {
      "name": "python3",
      "display_name": "Python 3"
    },
    "language_info": {
      "name": "python"
    }
  },
  "cells": [
    {
      "cell_type": "markdown",
      "metadata": {
        "id": "view-in-github",
        "colab_type": "text"
      },
      "source": [
        "<a href=\"https://colab.research.google.com/github/marin10292005/-/blob/main/python_%EC%9E%90%EB%A3%8C%EA%B5%AC%EC%A1%B0.ipynb\" target=\"_parent\"><img src=\"https://colab.research.google.com/assets/colab-badge.svg\" alt=\"Open In Colab\"/></a>"
      ]
    },
    {
      "cell_type": "code",
      "metadata": {
        "id": "D-mHY3-jz8yi",
        "colab": {
          "base_uri": "https://localhost:8080/"
        },
        "outputId": "e7777d30-9ac6-4996-bb54-6a2c4d01d323"
      },
      "source": [
        "import this"
      ],
      "execution_count": 2,
      "outputs": [
        {
          "output_type": "stream",
          "text": [
            "The Zen of Python, by Tim Peters\n",
            "\n",
            "Beautiful is better than ugly.\n",
            "Explicit is better than implicit.\n",
            "Simple is better than complex.\n",
            "Complex is better than complicated.\n",
            "Flat is better than nested.\n",
            "Sparse is better than dense.\n",
            "Readability counts.\n",
            "Special cases aren't special enough to break the rules.\n",
            "Although practicality beats purity.\n",
            "Errors should never pass silently.\n",
            "Unless explicitly silenced.\n",
            "In the face of ambiguity, refuse the temptation to guess.\n",
            "There should be one-- and preferably only one --obvious way to do it.\n",
            "Although that way may not be obvious at first unless you're Dutch.\n",
            "Now is better than never.\n",
            "Although never is often better than *right* now.\n",
            "If the implementation is hard to explain, it's a bad idea.\n",
            "If the implementation is easy to explain, it may be a good idea.\n",
            "Namespaces are one honking great idea -- let's do more of those!\n"
          ],
          "name": "stdout"
        }
      ]
    },
    {
      "cell_type": "markdown",
      "metadata": {
        "id": "09vSJaXp7gIp"
      },
      "source": [
        "##print(출력)\n",
        "- 첫 단원에서는 기본 printf()의 출력만 배웁니다.\n",
        "- 향후 실습 진행을 위한 정도만 배우고, 나중에 문자열 포맷팅에서 더 자세히 다룹니다."
      ]
    },
    {
      "cell_type": "code",
      "metadata": {
        "colab": {
          "base_uri": "https://localhost:8080/"
        },
        "id": "7uwm8b1y70dd",
        "outputId": "008f5d76-1ab0-4e2f-a968-fd76810731a9"
      },
      "source": [
        "print('오늘 파이썬 배우기 딱 좋은 날이네')"
      ],
      "execution_count": 3,
      "outputs": [
        {
          "output_type": "stream",
          "text": [
            "오늘 파이썬 배우기 딱 좋은 날이네\n"
          ],
          "name": "stdout"
        }
      ]
    },
    {
      "cell_type": "code",
      "metadata": {
        "colab": {
          "base_uri": "https://localhost:8080/"
        },
        "id": "Rn4awBui8Akq",
        "outputId": "33eab18c-daeb-446d-eabe-4433da8b68eb"
      },
      "source": [
        "print('오늘은', '일요일')"
      ],
      "execution_count": 5,
      "outputs": [
        {
          "output_type": "stream",
          "text": [
            "오늘은 일요일\n"
          ],
          "name": "stdout"
        }
      ]
    },
    {
      "cell_type": "markdown",
      "metadata": {
        "id": "Enf7KzYk8I9n"
      },
      "source": [
        "#변수\n",
        "\n",
        "변수는 **데이터를 담는 그릇**이라고 생각하시면 됩니다."
      ]
    },
    {
      "cell_type": "markdown",
      "metadata": {
        "id": "9WJs39NZ8Zel"
      },
      "source": [
        "#변수의 이름 규칙\n",
        "\n",
        "다음의 **문자만 사용**할 수 있습니다.\n",
        "- 소문자(a~z)\n",
        "- 대문자(A~Z)\n",
        "- 숫자(0~9)\n",
        "- 한글도 가능\n",
        "- 특수기호는 언더바(_)만 허용\n",
        "다음의 **규칙**을 가집니다.\n",
        "- 대소 문자를 구분합니다.\n",
        "- 숫자는 맨 처음에 올 수 없습니다.\n",
        "- 예약어는 사용할 수 없습니다."
      ]
    },
    {
      "cell_type": "markdown",
      "metadata": {
        "id": "aYrTlFFq9BI6"
      },
      "source": [
        "#데이터 타입 (Data Type)\n",
        "자료형태(자료형), 자료구조라고도 불리웁니다.\n",
        "\n",
        "**주요 데이터 타입(type)\n",
        "1. int (정수):Integar(정수)의 약어이며,정수를 나타내는 자료형입니다.\n",
        "2. float (실수):Floating point의 약어이며,소수점이 있는 숫자를 나타내는 자료형입니다.\n",
        "3. str (문자열):문자를 나타내는 자료형입니다. 작은 따옴표 혹은 큰 따옴표로 감싸져있습니다.\n",
        "4. bool (참/거짓):참 또는 거짓을 나타내는 자료형입니다. "
      ]
    },
    {
      "cell_type": "markdown",
      "metadata": {
        "id": "H1v0kApXAEiV"
      },
      "source": [
        ""
      ]
    },
    {
      "cell_type": "markdown",
      "metadata": {
        "id": "A7MEDtn8AFSh"
      },
      "source": [
        ""
      ]
    },
    {
      "cell_type": "markdown",
      "metadata": {
        "id": "S-X6009E-5JM"
      },
      "source": [
        "##type()\n",
        "type 함수를 활용하여 데이터의 타입을 알아 볼 수 있습니다."
      ]
    },
    {
      "cell_type": "code",
      "metadata": {
        "colab": {
          "base_uri": "https://localhost:8080/"
        },
        "id": "ugWuM8um_L4y",
        "outputId": "f933eab0-e2d9-4e2a-d281-8177dac72bc5"
      },
      "source": [
        "type (1)"
      ],
      "execution_count": 7,
      "outputs": [
        {
          "output_type": "execute_result",
          "data": {
            "text/plain": [
              "int"
            ]
          },
          "metadata": {
            "tags": []
          },
          "execution_count": 7
        }
      ]
    },
    {
      "cell_type": "markdown",
      "metadata": {
        "id": "znlvgqrd_ZZ8"
      },
      "source": [
        "float (실수) "
      ]
    },
    {
      "cell_type": "markdown",
      "metadata": {
        "id": "j5Fzdr-L_eK_"
      },
      "source": [
        "str (문자열) "
      ]
    },
    {
      "cell_type": "markdown",
      "metadata": {
        "id": "5z1kECNo_hj1"
      },
      "source": [
        "**큰 따옴표** \"\" 사이에 문자를 입력한 경우"
      ]
    },
    {
      "cell_type": "markdown",
      "metadata": {
        "id": "IEArfqYx_vb_"
      },
      "source": [
        "**작은 따옴표** ''' ''' 3개를 연속해서 사용한 경우\n",
        "\n"
      ]
    },
    {
      "cell_type": "markdown",
      "metadata": {
        "id": "Pc2ERnQi_7Qn"
      },
      "source": [
        "bool (참/거짓) \n",
        "참 또는 거짓을 나타내는 자료형입니다."
      ]
    },
    {
      "cell_type": "markdown",
      "metadata": {
        "id": "o0OcFQQZAHVG"
      },
      "source": [
        "아무것도 아닌 (NONE) 타입"
      ]
    },
    {
      "cell_type": "markdown",
      "metadata": {
        "id": "Tcqd_x12AU6h"
      },
      "source": [
        "#타입 변환\n",
        "\n",
        "int를 flaot 로 변환한 경우"
      ]
    },
    {
      "cell_type": "code",
      "metadata": {
        "id": "RKO5vDbKAb0D"
      },
      "source": [
        "a = 1"
      ],
      "execution_count": 11,
      "outputs": []
    },
    {
      "cell_type": "code",
      "metadata": {
        "colab": {
          "base_uri": "https://localhost:8080/"
        },
        "id": "jDjiYpn2AdrP",
        "outputId": "195d8d11-13e9-46cc-9269-d9d7558c8249"
      },
      "source": [
        "type(a)"
      ],
      "execution_count": 12,
      "outputs": [
        {
          "output_type": "execute_result",
          "data": {
            "text/plain": [
              "int"
            ]
          },
          "metadata": {
            "tags": []
          },
          "execution_count": 12
        }
      ]
    },
    {
      "cell_type": "markdown",
      "metadata": {
        "id": "HcndUbg_Ar2d"
      },
      "source": [
        ""
      ]
    }
  ]
}