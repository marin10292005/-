{
  "nbformat": 4,
  "nbformat_minor": 0,
  "metadata": {
    "colab": {
      "name": "python 자료구조.ipynb",
      "provenance": [],
      "collapsed_sections": [],
      "authorship_tag": "ABX9TyO9J1Mrd6KEQsLxHLetrh3Y",
      "include_colab_link": true
    },
    "kernelspec": {
      "name": "python3",
      "display_name": "Python 3"
    },
    "language_info": {
      "name": "python"
    }
  },
  "cells": [
    {
      "cell_type": "markdown",
      "metadata": {
        "id": "view-in-github",
        "colab_type": "text"
      },
      "source": [
        "<a href=\"https://colab.research.google.com/github/marin10292005/-/blob/main/python_%EC%9E%90%EB%A3%8C%EA%B5%AC%EC%A1%B0.ipynb\" target=\"_parent\"><img src=\"https://colab.research.google.com/assets/colab-badge.svg\" alt=\"Open In Colab\"/></a>"
      ]
    },
    {
      "cell_type": "code",
      "metadata": {
        "id": "D-mHY3-jz8yi"
      },
      "source": [
        "import this"
      ],
      "execution_count": 79,
      "outputs": []
    },
    {
      "cell_type": "markdown",
      "metadata": {
        "id": "46vIPBE5yITy"
      },
      "source": [
        "The Zen of Python, by Tim Peters\n",
        "\n",
        "Beautiful is better than ugly.\n",
        "Explicit is better than implicit.\n",
        "Simple is better than complex.\n",
        "Complex is better than complicated.\n",
        "Flat is better than nested.\n",
        "Sparse is better than dense.\n",
        "Readability counts.\n",
        "Special cases aren't special enough to break the rules.\n",
        "Although practicality beats purity.\n",
        "Errors should never pass silently.\n",
        "Unless explicitly silenced.\n",
        "In the face of ambiguity, refuse the temptation to guess.\n",
        "There should be one-- and preferably only one --obvious way to do it.\n",
        "Although that way may not be obvious at first unless you're Dutch.\n",
        "Now is better than never.\n",
        "Although never is often better than *right* now.\n",
        "If the implementation is hard to explain, it's a bad idea.\n",
        "If the implementation is easy to explain, it may be a good idea.\n",
        "Namespaces are one honking great idea -- let's do more of those!"
      ]
    },
    {
      "cell_type": "markdown",
      "metadata": {
        "id": "09vSJaXp7gIp"
      },
      "source": [
        "##print(출력)\n",
        "- 첫 단원에서는 기본 printf()의 출력만 배웁니다.\n",
        "- 향후 실습 진행을 위한 정도만 배우고, 나중에 문자열 포맷팅에서 더 자세히 다룹니다."
      ]
    },
    {
      "cell_type": "code",
      "metadata": {
        "colab": {
          "base_uri": "https://localhost:8080/"
        },
        "id": "7uwm8b1y70dd",
        "outputId": "d5663c09-23a1-47c2-8b94-67254610d079"
      },
      "source": [
        "print('오늘 파이썬 배우기 딱 좋은 날이네')"
      ],
      "execution_count": 12,
      "outputs": [
        {
          "output_type": "stream",
          "text": [
            "오늘 파이썬 배우기 딱 좋은 날이네\n"
          ],
          "name": "stdout"
        }
      ]
    },
    {
      "cell_type": "code",
      "metadata": {
        "colab": {
          "base_uri": "https://localhost:8080/"
        },
        "id": "Rn4awBui8Akq",
        "outputId": "aba104f4-8478-441e-f60f-1789f167dcfa"
      },
      "source": [
        "print('오늘은', '일요일')"
      ],
      "execution_count": 14,
      "outputs": [
        {
          "output_type": "stream",
          "text": [
            "오늘은 일요일\n"
          ],
          "name": "stdout"
        }
      ]
    },
    {
      "cell_type": "code",
      "metadata": {
        "colab": {
          "base_uri": "https://localhost:8080/"
        },
        "id": "sL_1ze2TySfa",
        "outputId": "3adf128d-b307-4513-f36f-3f7275cc0ef1"
      },
      "source": [
        "print(1,2,3,4)"
      ],
      "execution_count": 80,
      "outputs": [
        {
          "output_type": "stream",
          "text": [
            "1 2 3 4\n"
          ],
          "name": "stdout"
        }
      ]
    },
    {
      "cell_type": "markdown",
      "metadata": {
        "id": "IVTdC83myVXg"
      },
      "source": [
        "**Jupyter Notebook** 셀에서 맨 끝에 위치한 변수, 문자열, 숫자등은 자동으로 출력합니다.\n",
        "\n",
        "3.14, '안녕', 100 이렇게 3개의 값이 있지만, 항상 가장 마지막만 출력됩니다.'"
      ]
    },
    {
      "cell_type": "code",
      "metadata": {
        "colab": {
          "base_uri": "https://localhost:8080/"
        },
        "id": "hy0xYiKHynki",
        "outputId": "ef501f5d-3461-4f00-e351-dc35904062b5"
      },
      "source": [
        "3.14\n",
        "'안녕'\n",
        "100"
      ],
      "execution_count": 81,
      "outputs": [
        {
          "output_type": "execute_result",
          "data": {
            "text/plain": [
              "100"
            ]
          },
          "metadata": {
            "tags": []
          },
          "execution_count": 81
        }
      ]
    },
    {
      "cell_type": "markdown",
      "metadata": {
        "id": "Enf7KzYk8I9n"
      },
      "source": [
        "#**변수 (Variable)**\n",
        "\n",
        "변수는 **데이터를 담는 그릇**이라고 생각하시면 됩니다.\n",
        "\n",
        "변수라는 그릇에 정수를 담을 수도 있고, 긴 글을 담을 수도 있고, file을 담을 수도 있습니다. 우리가 재사용하기 쉽게 **별명**을 지정해 줬다라고 쉽게 생각하시기 바랍니다."
      ]
    },
    {
      "cell_type": "markdown",
      "metadata": {
        "id": "9WJs39NZ8Zel"
      },
      "source": [
        "#변수의 이름 규칙 (Rule)\n",
        "\n",
        "다음의 **문자만 사용**할 수 있습니다.\n",
        "- 소문자(a~z)\n",
        "- 대문자(A~Z)\n",
        "- 숫자(0~9)\n",
        "- 한글도 가능\n",
        "- 특수기호는 언더바(_)만 허용\n",
        "\n",
        "다음의 **규칙**을 가집니다.\n",
        "\n",
        "- 대소 문자를 구분합니다.\n",
        "- 숫자는 맨 처음에 올 수 없습니다.\n",
        "- 예약어(keyword)는 사용할 수 없습니다. (def, if, del, import, return 등등"
      ]
    },
    {
      "cell_type": "markdown",
      "metadata": {
        "id": "H1v0kApXAEiV"
      },
      "source": [
        "case 1. 알파벳 (가능)/대소문자 모두가능/심지어 **한글도 가능하나 사용하는 것은 비추!**"
      ]
    },
    {
      "cell_type": "code",
      "metadata": {
        "id": "EOJJmNshm_ie"
      },
      "source": [
        "a = 1"
      ],
      "execution_count": 1,
      "outputs": []
    },
    {
      "cell_type": "code",
      "metadata": {
        "id": "_bUgSUPTnC2n"
      },
      "source": [
        "A = 1"
      ],
      "execution_count": 3,
      "outputs": []
    },
    {
      "cell_type": "code",
      "metadata": {
        "id": "0XdpTSjNnGLe"
      },
      "source": [
        "변수 = 1"
      ],
      "execution_count": 4,
      "outputs": []
    },
    {
      "cell_type": "code",
      "metadata": {
        "colab": {
          "base_uri": "https://localhost:8080/"
        },
        "id": "NyH3IbSYnJLd",
        "outputId": "7f5c69ca-f62e-4f04-ec23-bc8f1097deb1"
      },
      "source": [
        "변수"
      ],
      "execution_count": 5,
      "outputs": [
        {
          "output_type": "execute_result",
          "data": {
            "text/plain": [
              "1"
            ]
          },
          "metadata": {
            "tags": []
          },
          "execution_count": 5
        }
      ]
    },
    {
      "cell_type": "markdown",
      "metadata": {
        "id": "0iMhiFL1nL5D"
      },
      "source": [
        "case 2. 알파벳 + 숫자 (가능)"
      ]
    },
    {
      "cell_type": "code",
      "metadata": {
        "id": "nXVB2qgfnQ9d"
      },
      "source": [
        "a1 = 1"
      ],
      "execution_count": 6,
      "outputs": []
    },
    {
      "cell_type": "markdown",
      "metadata": {
        "id": "6ONZlDjnnUfd"
      },
      "source": [
        "case 3. 알파벳 + 언더바(_) (가능)"
      ]
    },
    {
      "cell_type": "code",
      "metadata": {
        "id": "5CZmSiULncel"
      },
      "source": [
        "a_ = 1"
      ],
      "execution_count": 7,
      "outputs": []
    },
    {
      "cell_type": "markdown",
      "metadata": {
        "id": "jwPZEHAYnfqc"
      },
      "source": [
        "case 4. 언더바(_) + 알파벳(가능)"
      ]
    },
    {
      "cell_type": "code",
      "metadata": {
        "id": "DqVuTsHCouai"
      },
      "source": [
        "_a = 1"
      ],
      "execution_count": 8,
      "outputs": []
    },
    {
      "cell_type": "markdown",
      "metadata": {
        "id": "Zt7gBunWow8b"
      },
      "source": [
        "case 5. 숫자 + 알파벳 (불가능)"
      ]
    },
    {
      "cell_type": "code",
      "metadata": {
        "colab": {
          "base_uri": "https://localhost:8080/",
          "height": 136
        },
        "id": "JJB4hJVmo5qD",
        "outputId": "725a4911-4666-4ed3-c692-5b74d86582e1"
      },
      "source": [
        "1a + 1"
      ],
      "execution_count": 9,
      "outputs": [
        {
          "output_type": "error",
          "ename": "SyntaxError",
          "evalue": "ignored",
          "traceback": [
            "\u001b[0;36m  File \u001b[0;32m\"<ipython-input-9-fa45fa2510a9>\"\u001b[0;36m, line \u001b[0;32m1\u001b[0m\n\u001b[0;31m    1a + 1\u001b[0m\n\u001b[0m     ^\u001b[0m\n\u001b[0;31mSyntaxError\u001b[0m\u001b[0;31m:\u001b[0m invalid syntax\n"
          ]
        }
      ]
    },
    {
      "cell_type": "markdown",
      "metadata": {
        "id": "K2boiQ03o-7T"
      },
      "source": [
        "case 6. 특수문자(불가능)"
      ]
    },
    {
      "cell_type": "code",
      "metadata": {
        "colab": {
          "base_uri": "https://localhost:8080/",
          "height": 136
        },
        "id": "xBPE-MjFpDBU",
        "outputId": "fe987e4b-217f-40f1-e1c7-1c03e6bfdf38"
      },
      "source": [
        "* = 7"
      ],
      "execution_count": 10,
      "outputs": [
        {
          "output_type": "error",
          "ename": "SyntaxError",
          "evalue": "ignored",
          "traceback": [
            "\u001b[0;36m  File \u001b[0;32m\"<ipython-input-10-e21efa324dba>\"\u001b[0;36m, line \u001b[0;32m1\u001b[0m\n\u001b[0;31m    * = 7\u001b[0m\n\u001b[0m      ^\u001b[0m\n\u001b[0;31mSyntaxError\u001b[0m\u001b[0;31m:\u001b[0m invalid syntax\n"
          ]
        }
      ]
    },
    {
      "cell_type": "markdown",
      "metadata": {
        "id": "_fu3PoCmpGAW"
      },
      "source": [
        "case 7. 언더바를 제외한 특수문자 (불가능)"
      ]
    },
    {
      "cell_type": "code",
      "metadata": {
        "colab": {
          "base_uri": "https://localhost:8080/",
          "height": 136
        },
        "id": "f4o0qgFdpkcv",
        "outputId": "b889855c-fa6c-4a48-c319-9ceee9172173"
      },
      "source": [
        "a& = 6"
      ],
      "execution_count": 15,
      "outputs": [
        {
          "output_type": "error",
          "ename": "SyntaxError",
          "evalue": "ignored",
          "traceback": [
            "\u001b[0;36m  File \u001b[0;32m\"<ipython-input-15-c02bb5dec204>\"\u001b[0;36m, line \u001b[0;32m1\u001b[0m\n\u001b[0;31m    a& = 6\u001b[0m\n\u001b[0m       ^\u001b[0m\n\u001b[0;31mSyntaxError\u001b[0m\u001b[0;31m:\u001b[0m invalid syntax\n"
          ]
        }
      ]
    },
    {
      "cell_type": "markdown",
      "metadata": {
        "id": "QGHEWtpupn6M"
      },
      "source": [
        "case 8. 변수의 이름 사이의 공백 (불가능)"
      ]
    },
    {
      "cell_type": "code",
      "metadata": {
        "colab": {
          "base_uri": "https://localhost:8080/",
          "height": 136
        },
        "id": "DryyOAX2pvDT",
        "outputId": "ccced185-6250-4b2e-9b94-b857baad9cc2"
      },
      "source": [
        "a b = 6"
      ],
      "execution_count": 16,
      "outputs": [
        {
          "output_type": "error",
          "ename": "SyntaxError",
          "evalue": "ignored",
          "traceback": [
            "\u001b[0;36m  File \u001b[0;32m\"<ipython-input-16-38dc6d48d57b>\"\u001b[0;36m, line \u001b[0;32m1\u001b[0m\n\u001b[0;31m    a b = 6\u001b[0m\n\u001b[0m      ^\u001b[0m\n\u001b[0;31mSyntaxError\u001b[0m\u001b[0;31m:\u001b[0m invalid syntax\n"
          ]
        }
      ]
    },
    {
      "cell_type": "markdown",
      "metadata": {
        "id": "UP4u0iVmpyxk"
      },
      "source": [
        "주로 변수는  **소문자 알파벳으로 생성**하고, 필요시 **언더바**나 **숫자를 붙히는 방식**이 일반적입니다."
      ]
    },
    {
      "cell_type": "code",
      "metadata": {
        "id": "2FC5IFjwp9Rj"
      },
      "source": [
        "test = 10"
      ],
      "execution_count": 17,
      "outputs": []
    },
    {
      "cell_type": "code",
      "metadata": {
        "id": "1018rAPRqC5U"
      },
      "source": [
        "test01 = 20"
      ],
      "execution_count": 18,
      "outputs": []
    },
    {
      "cell_type": "code",
      "metadata": {
        "id": "YKTHJXHXqFqD"
      },
      "source": [
        "test_01 = 30"
      ],
      "execution_count": 19,
      "outputs": []
    },
    {
      "cell_type": "markdown",
      "metadata": {
        "id": "g8_iU6i8qJFF"
      },
      "source": [
        "##**데이터 타입 (Data Type)**\n",
        "자료형태(자료형), 자료구조라고도 불리웁니다.\n",
        "\n",
        "**주요 데이터 타입(type)**\n",
        "\n",
        "int (정수):Integar(정수)의 약어이며,정수를 나타내는 자료형입니다.\n",
        "float (실수):Floating point의 약어이며,소수점이 있는 숫자를 나타내는 자료형입니다.\n",
        "str (문자열):문자를 나타내는 자료형입니다. 작은 따옴표 혹은 큰 따옴표로 감싸져있습니다.\n",
        "bool (참/거짓):참 또는 거짓을 나타내는 자료형입니다. True, False에서 T와 F는 반드시 대문자로 표기해야 합니다.\n"
      ]
    },
    {
      "cell_type": "markdown",
      "metadata": {
        "id": "S-X6009E-5JM"
      },
      "source": [
        "##**type()**\n",
        "type 함수를 활용하여 데이터의 타입을 알아 볼 수 있습니다."
      ]
    },
    {
      "cell_type": "code",
      "metadata": {
        "colab": {
          "base_uri": "https://localhost:8080/"
        },
        "id": "ugWuM8um_L4y",
        "outputId": "77d6722b-db80-4baf-ba91-9dd4f7d15f41"
      },
      "source": [
        "type (1)"
      ],
      "execution_count": 20,
      "outputs": [
        {
          "output_type": "execute_result",
          "data": {
            "text/plain": [
              "int"
            ]
          },
          "metadata": {
            "tags": []
          },
          "execution_count": 20
        }
      ]
    },
    {
      "cell_type": "code",
      "metadata": {
        "colab": {
          "base_uri": "https://localhost:8080/"
        },
        "id": "25HpIkkUq291",
        "outputId": "cc026941-2812-48ad-d008-fee6a6c95ea4"
      },
      "source": [
        "type(3.14)"
      ],
      "execution_count": 23,
      "outputs": [
        {
          "output_type": "execute_result",
          "data": {
            "text/plain": [
              "float"
            ]
          },
          "metadata": {
            "tags": []
          },
          "execution_count": 23
        }
      ]
    },
    {
      "cell_type": "code",
      "metadata": {
        "colab": {
          "base_uri": "https://localhost:8080/"
        },
        "id": "8AbILzFKrFRk",
        "outputId": "928b9d03-eb9a-46f5-cac9-548071a96275"
      },
      "source": [
        "type(\"안녕\")"
      ],
      "execution_count": 24,
      "outputs": [
        {
          "output_type": "execute_result",
          "data": {
            "text/plain": [
              "str"
            ]
          },
          "metadata": {
            "tags": []
          },
          "execution_count": 24
        }
      ]
    },
    {
      "cell_type": "code",
      "metadata": {
        "colab": {
          "base_uri": "https://localhost:8080/"
        },
        "id": "W-WX8GPArIkl",
        "outputId": "cb94009f-2545-4bb4-eba2-17b62329848d"
      },
      "source": [
        "type(True)"
      ],
      "execution_count": 25,
      "outputs": [
        {
          "output_type": "execute_result",
          "data": {
            "text/plain": [
              "bool"
            ]
          },
          "metadata": {
            "tags": []
          },
          "execution_count": 25
        }
      ]
    },
    {
      "cell_type": "markdown",
      "metadata": {
        "id": "jL1Thb8mrNQz"
      },
      "source": [
        "##**int (정수)**\n",
        "Integer(정수)의 약어이며, 정수를 나타내는 자료형입니다."
      ]
    },
    {
      "cell_type": "code",
      "metadata": {
        "id": "pdm_1C5NriBK"
      },
      "source": [
        "a = 1"
      ],
      "execution_count": 26,
      "outputs": []
    },
    {
      "cell_type": "code",
      "metadata": {
        "colab": {
          "base_uri": "https://localhost:8080/"
        },
        "id": "JWz5BUe-sBaK",
        "outputId": "1f769421-0230-4c72-b48d-2a068c906f87"
      },
      "source": [
        "print(a)"
      ],
      "execution_count": 27,
      "outputs": [
        {
          "output_type": "stream",
          "text": [
            "1\n"
          ],
          "name": "stdout"
        }
      ]
    },
    {
      "cell_type": "markdown",
      "metadata": {
        "id": "znlvgqrd_ZZ8"
      },
      "source": [
        "##**float (실수)**\n",
        "Floating point의 약어이며, 소수점이 있는 숫자를 나타내는 자료형입니다. "
      ]
    },
    {
      "cell_type": "code",
      "metadata": {
        "id": "kwEJNlUhsUPJ"
      },
      "source": [
        "a = 3.14"
      ],
      "execution_count": 28,
      "outputs": []
    },
    {
      "cell_type": "code",
      "metadata": {
        "colab": {
          "base_uri": "https://localhost:8080/"
        },
        "id": "pkm_QpjasW_i",
        "outputId": "5ba67951-6f12-4316-f34c-4845d6a44f5b"
      },
      "source": [
        "print(a)"
      ],
      "execution_count": 29,
      "outputs": [
        {
          "output_type": "stream",
          "text": [
            "3.14\n"
          ],
          "name": "stdout"
        }
      ]
    },
    {
      "cell_type": "markdown",
      "metadata": {
        "id": "izt9oWFksaMD"
      },
      "source": [
        "type 확인"
      ]
    },
    {
      "cell_type": "code",
      "metadata": {
        "colab": {
          "base_uri": "https://localhost:8080/"
        },
        "id": "gdtjtkuGsdpC",
        "outputId": "b98bdc97-9baf-497e-b506-bf0d6e6fabb8"
      },
      "source": [
        "type(a)"
      ],
      "execution_count": 30,
      "outputs": [
        {
          "output_type": "execute_result",
          "data": {
            "text/plain": [
              "float"
            ]
          },
          "metadata": {
            "tags": []
          },
          "execution_count": 30
        }
      ]
    },
    {
      "cell_type": "markdown",
      "metadata": {
        "id": "j5Fzdr-L_eK_"
      },
      "source": [
        "**str (문자열)**\n",
        "문자를 나타내는 자료형입니다. 작은 따옴표 혹은 큰 따옴표로 감싸져 있습니다."
      ]
    },
    {
      "cell_type": "code",
      "metadata": {
        "id": "WIzGe0FuslaI"
      },
      "source": [
        "word = '안녕하세요'"
      ],
      "execution_count": 33,
      "outputs": []
    },
    {
      "cell_type": "code",
      "metadata": {
        "colab": {
          "base_uri": "https://localhost:8080/",
          "height": 35
        },
        "id": "4Tq7havUsusD",
        "outputId": "835a8d12-7e0c-47d1-e7e4-7e171dc68365"
      },
      "source": [
        "word"
      ],
      "execution_count": 34,
      "outputs": [
        {
          "output_type": "execute_result",
          "data": {
            "application/vnd.google.colaboratory.intrinsic+json": {
              "type": "string"
            },
            "text/plain": [
              "'안녕하세요'"
            ]
          },
          "metadata": {
            "tags": []
          },
          "execution_count": 34
        }
      ]
    },
    {
      "cell_type": "markdown",
      "metadata": {
        "id": "FhHsdsEMs7Jo"
      },
      "source": [
        "**type 확인**"
      ]
    },
    {
      "cell_type": "code",
      "metadata": {
        "colab": {
          "base_uri": "https://localhost:8080/"
        },
        "id": "-8TEC9Uzs9Gd",
        "outputId": "b0b16e36-8f49-45b8-cdc7-3e5ef9fb1855"
      },
      "source": [
        "type(word)"
      ],
      "execution_count": 35,
      "outputs": [
        {
          "output_type": "execute_result",
          "data": {
            "text/plain": [
              "str"
            ]
          },
          "metadata": {
            "tags": []
          },
          "execution_count": 35
        }
      ]
    },
    {
      "cell_type": "markdown",
      "metadata": {
        "id": "5z1kECNo_hj1"
      },
      "source": [
        "**큰 따옴표** \"\" 사이에 문자를 입력한 경우"
      ]
    },
    {
      "cell_type": "code",
      "metadata": {
        "id": "RhB7Ec5CtFND"
      },
      "source": [
        "word = \"안녕하세요\""
      ],
      "execution_count": 36,
      "outputs": []
    },
    {
      "cell_type": "code",
      "metadata": {
        "colab": {
          "base_uri": "https://localhost:8080/",
          "height": 35
        },
        "id": "s84b0s2BtJra",
        "outputId": "1bcb7245-7a6d-4968-edcb-85ba5594160b"
      },
      "source": [
        "word"
      ],
      "execution_count": 37,
      "outputs": [
        {
          "output_type": "execute_result",
          "data": {
            "application/vnd.google.colaboratory.intrinsic+json": {
              "type": "string"
            },
            "text/plain": [
              "'안녕하세요'"
            ]
          },
          "metadata": {
            "tags": []
          },
          "execution_count": 37
        }
      ]
    },
    {
      "cell_type": "markdown",
      "metadata": {
        "id": "Ye4Q7Ye-tMEh"
      },
      "source": [
        "**여러 줄에 입력하고 싶을 때는 어떻게 해야하나요?**"
      ]
    },
    {
      "cell_type": "markdown",
      "metadata": {
        "id": "IEArfqYx_vb_"
      },
      "source": [
        "**작은 따옴표** ''' ''' 3개를 연속해서 사용한 경우\n",
        "- 작은 따옴표나 큰 따옴표 3개를 연속해서 사용시 여러 줄에 나누어 문장을 입력할 수 있습니다."
      ]
    },
    {
      "cell_type": "code",
      "metadata": {
        "id": "zslDo4-jtZL_"
      },
      "source": [
        "word = '''안녕하세요\n",
        "반\n",
        "갑\n",
        "습\n",
        "니다.\n",
        "'''"
      ],
      "execution_count": 38,
      "outputs": []
    },
    {
      "cell_type": "code",
      "metadata": {
        "colab": {
          "base_uri": "https://localhost:8080/"
        },
        "id": "oMB0D_Cmtp5d",
        "outputId": "1500a4c3-49cd-483f-c4da-aed53c6c8176"
      },
      "source": [
        "print(word)"
      ],
      "execution_count": 39,
      "outputs": [
        {
          "output_type": "stream",
          "text": [
            "안녕하세요\n",
            "반\n",
            "갑\n",
            "습\n",
            "니다.\n",
            "\n"
          ],
          "name": "stdout"
        }
      ]
    },
    {
      "cell_type": "markdown",
      "metadata": {
        "id": "gdseKfLQtuTa"
      },
      "source": [
        "**큰 따옴표 \"\"\" \"\"\"** 3개를 연속해서 사용한 경우"
      ]
    },
    {
      "cell_type": "code",
      "metadata": {
        "id": "IRZKX3Qmt3Ep"
      },
      "source": [
        "word = \"\"\"안녕하세요\n",
        "반\n",
        "갑\n",
        "습\n",
        "니다."
      ],
      "execution_count": null,
      "outputs": []
    },
    {
      "cell_type": "markdown",
      "metadata": {
        "id": "cRsfYoLat__Z"
      },
      "source": [
        "**type 확인**"
      ]
    },
    {
      "cell_type": "code",
      "metadata": {
        "colab": {
          "base_uri": "https://localhost:8080/"
        },
        "id": "93irY2B4uC8i",
        "outputId": "52fc1a55-138e-4af7-bd54-e23c3f691223"
      },
      "source": [
        "type(word)"
      ],
      "execution_count": 40,
      "outputs": [
        {
          "output_type": "execute_result",
          "data": {
            "text/plain": [
              "str"
            ]
          },
          "metadata": {
            "tags": []
          },
          "execution_count": 40
        }
      ]
    },
    {
      "cell_type": "markdown",
      "metadata": {
        "id": "Pc2ERnQi_7Qn"
      },
      "source": [
        "##**bool (참/거짓)**\n",
        "참 또는 거짓을 나타내는 자료형입니다. True, False에서 T와 F는 **반드시 대문자로 표기**해야 합니다."
      ]
    },
    {
      "cell_type": "code",
      "metadata": {
        "id": "46hY7_23uWHR"
      },
      "source": [
        "a = False"
      ],
      "execution_count": 41,
      "outputs": []
    },
    {
      "cell_type": "code",
      "metadata": {
        "colab": {
          "base_uri": "https://localhost:8080/"
        },
        "id": "9NSIyqGguZ5Y",
        "outputId": "bc04cfc4-408a-47ba-aa12-c2cd26036ad0"
      },
      "source": [
        "print(a)"
      ],
      "execution_count": 43,
      "outputs": [
        {
          "output_type": "stream",
          "text": [
            "False\n"
          ],
          "name": "stdout"
        }
      ]
    },
    {
      "cell_type": "markdown",
      "metadata": {
        "id": "QMf39Wb9uiIt"
      },
      "source": [
        "**type 확인**"
      ]
    },
    {
      "cell_type": "code",
      "metadata": {
        "colab": {
          "base_uri": "https://localhost:8080/"
        },
        "id": "iRujEQ94umkB",
        "outputId": "e85e896d-81ad-4f2b-f3e8-9a3cd2bd266d"
      },
      "source": [
        "type(False)"
      ],
      "execution_count": 44,
      "outputs": [
        {
          "output_type": "execute_result",
          "data": {
            "text/plain": [
              "bool"
            ]
          },
          "metadata": {
            "tags": []
          },
          "execution_count": 44
        }
      ]
    },
    {
      "cell_type": "markdown",
      "metadata": {
        "id": "050bREipuqex"
      },
      "source": [
        "- 정수 1은 True\n",
        "- 정수 0은 False\n",
        "\n",
        "비교 연산자는 추후에 배우게 됩니다.\n",
        "\n",
        "파이썬에서는 **\"같다\"** 비교를 **\"==\"** 기호로 합니다."
      ]
    },
    {
      "cell_type": "code",
      "metadata": {
        "colab": {
          "base_uri": "https://localhost:8080/"
        },
        "id": "mw9uBQg7vG-I",
        "outputId": "d8c4c444-d62d-4a09-b740-8d7d74a0e195"
      },
      "source": [
        "1 == True"
      ],
      "execution_count": 45,
      "outputs": [
        {
          "output_type": "execute_result",
          "data": {
            "text/plain": [
              "True"
            ]
          },
          "metadata": {
            "tags": []
          },
          "execution_count": 45
        }
      ]
    },
    {
      "cell_type": "code",
      "metadata": {
        "colab": {
          "base_uri": "https://localhost:8080/"
        },
        "id": "2aR8YoH8vJ9A",
        "outputId": "df061ee9-e0c2-4ac4-af47-2437ec666534"
      },
      "source": [
        "0 == False"
      ],
      "execution_count": 46,
      "outputs": [
        {
          "output_type": "execute_result",
          "data": {
            "text/plain": [
              "True"
            ]
          },
          "metadata": {
            "tags": []
          },
          "execution_count": 46
        }
      ]
    },
    {
      "cell_type": "code",
      "metadata": {
        "colab": {
          "base_uri": "https://localhost:8080/"
        },
        "id": "Q5ABx2_3vM2Z",
        "outputId": "42dbf5ba-f5b9-4e47-a042-6379ca99c065"
      },
      "source": [
        "type(True)"
      ],
      "execution_count": 47,
      "outputs": [
        {
          "output_type": "execute_result",
          "data": {
            "text/plain": [
              "bool"
            ]
          },
          "metadata": {
            "tags": []
          },
          "execution_count": 47
        }
      ]
    },
    {
      "cell_type": "markdown",
      "metadata": {
        "id": "puPrl3dVvPh_"
      },
      "source": [
        "**type 확인**"
      ]
    },
    {
      "cell_type": "code",
      "metadata": {
        "colab": {
          "base_uri": "https://localhost:8080/"
        },
        "id": "w2QaCNrovSZ4",
        "outputId": "40195186-4621-4131-9b69-07f65ccae716"
      },
      "source": [
        "type(True)"
      ],
      "execution_count": 48,
      "outputs": [
        {
          "output_type": "execute_result",
          "data": {
            "text/plain": [
              "bool"
            ]
          },
          "metadata": {
            "tags": []
          },
          "execution_count": 48
        }
      ]
    },
    {
      "cell_type": "markdown",
      "metadata": {
        "id": "o0OcFQQZAHVG"
      },
      "source": [
        "##**아무것도 아닌 (NONE) 타입**\n",
        "말 그래도 아무 것도 아닌 흔히 Null 값을 넣는다고도 합니다.\n",
        "\n",
        "사전상 의미는 \n",
        "\n",
        " - **Null: Nullify (무효화하다)** 라는 뜻을 가지고 있다네요~\n",
        " \n",
        " python에서 **None** 입니다!"
      ]
    },
    {
      "cell_type": "code",
      "metadata": {
        "id": "fbFQIKs2wEMh"
      },
      "source": [
        "a = None"
      ],
      "execution_count": 49,
      "outputs": []
    },
    {
      "cell_type": "markdown",
      "metadata": {
        "id": "una080DcwG9E"
      },
      "source": [
        "**type 확인**"
      ]
    },
    {
      "cell_type": "code",
      "metadata": {
        "colab": {
          "base_uri": "https://localhost:8080/"
        },
        "id": "A4H6-JBIwKxs",
        "outputId": "3e14cd3d-97fa-4f5b-d60d-91a2645e33e5"
      },
      "source": [
        "type(a)"
      ],
      "execution_count": 67,
      "outputs": [
        {
          "output_type": "execute_result",
          "data": {
            "text/plain": [
              "int"
            ]
          },
          "metadata": {
            "tags": []
          },
          "execution_count": 67
        }
      ]
    },
    {
      "cell_type": "code",
      "metadata": {
        "colab": {
          "base_uri": "https://localhost:8080/"
        },
        "id": "2N_6_AI_wPdc",
        "outputId": "c57a90d3-004c-4014-d047-9f41d35aafe2"
      },
      "source": [
        "print(a)"
      ],
      "execution_count": 69,
      "outputs": [
        {
          "output_type": "stream",
          "text": [
            "1\n"
          ],
          "name": "stdout"
        }
      ]
    },
    {
      "cell_type": "markdown",
      "metadata": {
        "id": "Tcqd_x12AU6h"
      },
      "source": [
        "#**타입 변환**\n",
        "\n",
        "int를 flaot로 변환한 경우"
      ]
    },
    {
      "cell_type": "code",
      "metadata": {
        "id": "RKO5vDbKAb0D"
      },
      "source": [
        "a = 1"
      ],
      "execution_count": 55,
      "outputs": []
    },
    {
      "cell_type": "code",
      "metadata": {
        "colab": {
          "base_uri": "https://localhost:8080/"
        },
        "id": "jDjiYpn2AdrP",
        "outputId": "94f94955-7bca-480d-a08f-7ca58238c34e"
      },
      "source": [
        "type(a)"
      ],
      "execution_count": 56,
      "outputs": [
        {
          "output_type": "execute_result",
          "data": {
            "text/plain": [
              "int"
            ]
          },
          "metadata": {
            "tags": []
          },
          "execution_count": 56
        }
      ]
    },
    {
      "cell_type": "code",
      "metadata": {
        "colab": {
          "base_uri": "https://localhost:8080/"
        },
        "id": "8PjmcPJowWNj",
        "outputId": "15826a47-7fcb-435f-ae01-d59a5e3ce76b"
      },
      "source": [
        "float(a)"
      ],
      "execution_count": 57,
      "outputs": [
        {
          "output_type": "execute_result",
          "data": {
            "text/plain": [
              "1.0"
            ]
          },
          "metadata": {
            "tags": []
          },
          "execution_count": 57
        }
      ]
    },
    {
      "cell_type": "markdown",
      "metadata": {
        "id": "2u4JGKOYwirU"
      },
      "source": [
        "float를 int로 변환한 경우\n",
        "\n",
        "- float를 int로 변환시 반올림이 아닌 값이 버림되어 집니다. (소수점 이하 절삭)"
      ]
    },
    {
      "cell_type": "code",
      "metadata": {
        "id": "7Mz_BuwBwxF_"
      },
      "source": [
        "b = 3.99"
      ],
      "execution_count": 58,
      "outputs": []
    },
    {
      "cell_type": "code",
      "metadata": {
        "colab": {
          "base_uri": "https://localhost:8080/"
        },
        "id": "36kE_w4Vw3KH",
        "outputId": "07aac174-1de9-4946-af91-b5779b70279d"
      },
      "source": [
        "int(b)"
      ],
      "execution_count": 59,
      "outputs": [
        {
          "output_type": "execute_result",
          "data": {
            "text/plain": [
              "3"
            ]
          },
          "metadata": {
            "tags": []
          },
          "execution_count": 59
        }
      ]
    },
    {
      "cell_type": "markdown",
      "metadata": {
        "id": "JBA-TsdVw7qY"
      },
      "source": [
        "bool을 int로 변환한 경우"
      ]
    },
    {
      "cell_type": "code",
      "metadata": {
        "id": "Br9A7UprxA_C"
      },
      "source": [
        "c = True"
      ],
      "execution_count": 60,
      "outputs": []
    },
    {
      "cell_type": "code",
      "metadata": {
        "colab": {
          "base_uri": "https://localhost:8080/"
        },
        "id": "JVw1qggZxDTN",
        "outputId": "3a2ab1f1-460b-4a4a-bc4e-48a11b7f52ac"
      },
      "source": [
        "int(c)"
      ],
      "execution_count": 61,
      "outputs": [
        {
          "output_type": "execute_result",
          "data": {
            "text/plain": [
              "1"
            ]
          },
          "metadata": {
            "tags": []
          },
          "execution_count": 61
        }
      ]
    },
    {
      "cell_type": "code",
      "metadata": {
        "id": "5ObYBLO7xEyd"
      },
      "source": [
        "d = False"
      ],
      "execution_count": 62,
      "outputs": []
    },
    {
      "cell_type": "code",
      "metadata": {
        "colab": {
          "base_uri": "https://localhost:8080/"
        },
        "id": "rDPIc_CgxG5C",
        "outputId": "05f737ba-fcf0-4d61-8c58-0bc8d92e5281"
      },
      "source": [
        "int(d)"
      ],
      "execution_count": 63,
      "outputs": [
        {
          "output_type": "execute_result",
          "data": {
            "text/plain": [
              "0"
            ]
          },
          "metadata": {
            "tags": []
          },
          "execution_count": 63
        }
      ]
    },
    {
      "cell_type": "markdown",
      "metadata": {
        "id": "cVuo5E94xJpu"
      },
      "source": [
        "bool을 float로 변환한 경우"
      ]
    },
    {
      "cell_type": "code",
      "metadata": {
        "colab": {
          "base_uri": "https://localhost:8080/"
        },
        "id": "a0jFWI1kxISC",
        "outputId": "c97b31db-18b4-4e50-a253-32b6dec332b3"
      },
      "source": [
        "float(a)"
      ],
      "execution_count": 70,
      "outputs": [
        {
          "output_type": "execute_result",
          "data": {
            "text/plain": [
              "1.0"
            ]
          },
          "metadata": {
            "tags": []
          },
          "execution_count": 70
        }
      ]
    },
    {
      "cell_type": "markdown",
      "metadata": {
        "id": "SovprOVgxg73"
      },
      "source": [
        "파이썬에서 **0이 아닌 값은 모두 True로 간주**한다."
      ]
    },
    {
      "cell_type": "code",
      "metadata": {
        "colab": {
          "base_uri": "https://localhost:8080/"
        },
        "id": "IOC71j6ExQ66",
        "outputId": "ae73d4c3-a405-4008-a8ee-c0d6619715bd"
      },
      "source": [
        "bool(1)"
      ],
      "execution_count": 72,
      "outputs": [
        {
          "output_type": "execute_result",
          "data": {
            "text/plain": [
              "True"
            ]
          },
          "metadata": {
            "tags": []
          },
          "execution_count": 72
        }
      ]
    },
    {
      "cell_type": "code",
      "metadata": {
        "colab": {
          "base_uri": "https://localhost:8080/"
        },
        "id": "dHPaqT4ox0YD",
        "outputId": "1481c2c7-c14e-48c4-855f-658a13ffe3ba"
      },
      "source": [
        "bool(-10)"
      ],
      "execution_count": 73,
      "outputs": [
        {
          "output_type": "execute_result",
          "data": {
            "text/plain": [
              "True"
            ]
          },
          "metadata": {
            "tags": []
          },
          "execution_count": 73
        }
      ]
    },
    {
      "cell_type": "code",
      "metadata": {
        "colab": {
          "base_uri": "https://localhost:8080/"
        },
        "id": "B0KYNtoOx4TY",
        "outputId": "425f0588-a687-4103-9027-b8926476599a"
      },
      "source": [
        "bool(3.14)"
      ],
      "execution_count": 74,
      "outputs": [
        {
          "output_type": "execute_result",
          "data": {
            "text/plain": [
              "True"
            ]
          },
          "metadata": {
            "tags": []
          },
          "execution_count": 74
        }
      ]
    },
    {
      "cell_type": "code",
      "metadata": {
        "colab": {
          "base_uri": "https://localhost:8080/"
        },
        "id": "yIDbI805x6Fg",
        "outputId": "02d23e67-075e-4978-eacb-65922bece559"
      },
      "source": [
        "bool(0)"
      ],
      "execution_count": 75,
      "outputs": [
        {
          "output_type": "execute_result",
          "data": {
            "text/plain": [
              "False"
            ]
          },
          "metadata": {
            "tags": []
          },
          "execution_count": 75
        }
      ]
    },
    {
      "cell_type": "code",
      "metadata": {
        "colab": {
          "base_uri": "https://localhost:8080/"
        },
        "id": "9w4dxRJQx7mx",
        "outputId": "0b9ac8f0-44bb-4281-fa60-99ee7c0b4138"
      },
      "source": [
        "bool(0.0)"
      ],
      "execution_count": 76,
      "outputs": [
        {
          "output_type": "execute_result",
          "data": {
            "text/plain": [
              "False"
            ]
          },
          "metadata": {
            "tags": []
          },
          "execution_count": 76
        }
      ]
    }
  ]
}