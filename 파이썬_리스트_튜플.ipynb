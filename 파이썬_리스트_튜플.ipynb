{
  "nbformat": 4,
  "nbformat_minor": 0,
  "metadata": {
    "colab": {
      "name": "파이썬 리스트 튜플",
      "provenance": [],
      "authorship_tag": "ABX9TyOQrPovyrc6LpHPwHJQ0784",
      "include_colab_link": true
    },
    "kernelspec": {
      "name": "python3",
      "display_name": "Python 3"
    },
    "language_info": {
      "name": "python"
    }
  },
  "cells": [
    {
      "cell_type": "markdown",
      "metadata": {
        "id": "view-in-github",
        "colab_type": "text"
      },
      "source": [
        "<a href=\"https://colab.research.google.com/github/marin10292005/-/blob/main/%ED%8C%8C%EC%9D%B4%EC%8D%AC_%EB%A6%AC%EC%8A%A4%ED%8A%B8_%ED%8A%9C%ED%94%8C.ipynb\" target=\"_parent\"><img src=\"https://colab.research.google.com/assets/colab-badge.svg\" alt=\"Open In Colab\"/></a>"
      ]
    },
    {
      "cell_type": "markdown",
      "metadata": {
        "id": "FM0EEeJ1DcI2"
      },
      "source": [
        "#시퀀스, 집합형 자료구조"
      ]
    },
    {
      "cell_type": "markdown",
      "metadata": {
        "id": "nf4wrpwqDexm"
      },
      "source": [
        "list 규칙\n",
        "- list는 다양한 type의 데이터를 집합으로 가집니다.\n",
        "- list안에 list도 허용됩니다.\n",
        "- list는 순서(oreder)의 개념이 존재합니다."
      ]
    },
    {
      "cell_type": "markdown",
      "metadata": {
        "id": "3ENxSIxoE7Ss"
      },
      "source": [
        "**관련 함수**\n",
        "- 점 연산자로 함수를 실행할 수 있습니다.\n",
        "- 함수는 어떤 작업을 수행하는 코드를 모아 이름을 붙인 것 입니다.\n",
        "- 자세한 내용은 추후 함수 단원에서 배웁니다."
      ]
    }
  ]
}